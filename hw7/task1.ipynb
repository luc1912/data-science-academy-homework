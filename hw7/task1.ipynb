{
 "cells": [
  {
   "cell_type": "code",
   "execution_count": 43,
   "id": "58228bdd",
   "metadata": {},
   "outputs": [],
   "source": [
    "import pandas as pd\n",
    "import scipy.stats as stats\n",
    "from statsmodels.stats.proportion import proportions_ztest\n",
    "import warnings\n",
    "warnings.filterwarnings(\"ignore\")"
   ]
  },
  {
   "cell_type": "markdown",
   "id": "09e42650",
   "metadata": {},
   "source": [
    "# Task 1"
   ]
  },
  {
   "cell_type": "markdown",
   "id": "fc775941",
   "metadata": {},
   "source": [
    "The goal of this Jupyter notebook is to perform an A/B test to evaluate the impact of the Change Vote button in the \"Who will win\" feature on the Android platform in February 2024. We are comparing user behavior between the control group (without the Change Vote option) and the treatment group (with the Change Vote button)."
   ]
  },
  {
   "cell_type": "markdown",
   "id": "46f5337a",
   "metadata": {},
   "source": [
    "## Data loading"
   ]
  },
  {
   "cell_type": "markdown",
   "id": "3fba16bb",
   "metadata": {},
   "source": [
    "We are loading data from the CSV file obtained using the task1.sql query."
   ]
  },
  {
   "cell_type": "code",
   "execution_count": 20,
   "id": "4ea015a1",
   "metadata": {},
   "outputs": [],
   "source": [
    "column_names = [\n",
    "    \"event_date\",\n",
    "    \"event_timestamp\",\n",
    "    \"event_name\",\n",
    "    \"user_pseudo_id\",\n",
    "    \"geo_country\",\n",
    "    \"app_info_version\",\n",
    "    \"platform\",\n",
    "    \"status\",\n",
    "    \"id\",\n",
    "    \"event_id\",\n",
    "    \"name\",\n",
    "    \"item_name\",\n",
    "    \"previous_first_open_count\",\n",
    "    \"firebase_experiments\"\n",
    "]"
   ]
  },
  {
   "cell_type": "code",
   "execution_count": 21,
   "id": "085ca766",
   "metadata": {},
   "outputs": [
    {
     "data": {
      "text/html": [
       "<div>\n",
       "<style scoped>\n",
       "    .dataframe tbody tr th:only-of-type {\n",
       "        vertical-align: middle;\n",
       "    }\n",
       "\n",
       "    .dataframe tbody tr th {\n",
       "        vertical-align: top;\n",
       "    }\n",
       "\n",
       "    .dataframe thead th {\n",
       "        text-align: right;\n",
       "    }\n",
       "</style>\n",
       "<table border=\"1\" class=\"dataframe\">\n",
       "  <thead>\n",
       "    <tr style=\"text-align: right;\">\n",
       "      <th></th>\n",
       "      <th>event_date</th>\n",
       "      <th>event_timestamp</th>\n",
       "      <th>event_name</th>\n",
       "      <th>user_pseudo_id</th>\n",
       "      <th>geo_country</th>\n",
       "      <th>app_info_version</th>\n",
       "      <th>platform</th>\n",
       "      <th>status</th>\n",
       "      <th>id</th>\n",
       "      <th>event_id</th>\n",
       "      <th>name</th>\n",
       "      <th>item_name</th>\n",
       "      <th>previous_first_open_count</th>\n",
       "      <th>firebase_experiments</th>\n",
       "    </tr>\n",
       "  </thead>\n",
       "  <tbody>\n",
       "    <tr>\n",
       "      <th>0</th>\n",
       "      <td>20240219</td>\n",
       "      <td>1708300359346037</td>\n",
       "      <td>add_favorite_event</td>\n",
       "      <td>53357ec1f1dca1f79fabed2ee14adfb6</td>\n",
       "      <td>Croatia</td>\n",
       "      <td>6.16.9</td>\n",
       "      <td>ANDROID</td>\n",
       "      <td>NaN</td>\n",
       "      <td>11911139.0</td>\n",
       "      <td>NaN</td>\n",
       "      <td>NaN</td>\n",
       "      <td>NaN</td>\n",
       "      <td>NaN</td>\n",
       "      <td>['firebase_exp_84_1']</td>\n",
       "    </tr>\n",
       "    <tr>\n",
       "      <th>1</th>\n",
       "      <td>20240219</td>\n",
       "      <td>1708300395373042</td>\n",
       "      <td>add_favorite_event</td>\n",
       "      <td>53357ec1f1dca1f79fabed2ee14adfb6</td>\n",
       "      <td>Croatia</td>\n",
       "      <td>6.16.9</td>\n",
       "      <td>ANDROID</td>\n",
       "      <td>NaN</td>\n",
       "      <td>11938093.0</td>\n",
       "      <td>NaN</td>\n",
       "      <td>NaN</td>\n",
       "      <td>NaN</td>\n",
       "      <td>NaN</td>\n",
       "      <td>['firebase_exp_84_1']</td>\n",
       "    </tr>\n",
       "    <tr>\n",
       "      <th>2</th>\n",
       "      <td>20240219</td>\n",
       "      <td>1708343711592023</td>\n",
       "      <td>add_favorite_event</td>\n",
       "      <td>53357ec1f1dca1f79fabed2ee14adfb6</td>\n",
       "      <td>Croatia</td>\n",
       "      <td>6.16.9</td>\n",
       "      <td>ANDROID</td>\n",
       "      <td>NaN</td>\n",
       "      <td>11515794.0</td>\n",
       "      <td>NaN</td>\n",
       "      <td>NaN</td>\n",
       "      <td>NaN</td>\n",
       "      <td>NaN</td>\n",
       "      <td>['firebase_exp_84_1']</td>\n",
       "    </tr>\n",
       "    <tr>\n",
       "      <th>3</th>\n",
       "      <td>20240219</td>\n",
       "      <td>1708343723166037</td>\n",
       "      <td>add_favorite_event</td>\n",
       "      <td>53357ec1f1dca1f79fabed2ee14adfb6</td>\n",
       "      <td>Croatia</td>\n",
       "      <td>6.16.9</td>\n",
       "      <td>ANDROID</td>\n",
       "      <td>NaN</td>\n",
       "      <td>11515796.0</td>\n",
       "      <td>NaN</td>\n",
       "      <td>NaN</td>\n",
       "      <td>NaN</td>\n",
       "      <td>NaN</td>\n",
       "      <td>['firebase_exp_84_1']</td>\n",
       "    </tr>\n",
       "    <tr>\n",
       "      <th>4</th>\n",
       "      <td>20240219</td>\n",
       "      <td>1708343760654072</td>\n",
       "      <td>add_favorite_event</td>\n",
       "      <td>53357ec1f1dca1f79fabed2ee14adfb6</td>\n",
       "      <td>Croatia</td>\n",
       "      <td>6.16.9</td>\n",
       "      <td>ANDROID</td>\n",
       "      <td>NaN</td>\n",
       "      <td>12076702.0</td>\n",
       "      <td>NaN</td>\n",
       "      <td>NaN</td>\n",
       "      <td>NaN</td>\n",
       "      <td>NaN</td>\n",
       "      <td>['firebase_exp_84_1']</td>\n",
       "    </tr>\n",
       "  </tbody>\n",
       "</table>\n",
       "</div>"
      ],
      "text/plain": [
       "   event_date   event_timestamp          event_name  \\\n",
       "0    20240219  1708300359346037  add_favorite_event   \n",
       "1    20240219  1708300395373042  add_favorite_event   \n",
       "2    20240219  1708343711592023  add_favorite_event   \n",
       "3    20240219  1708343723166037  add_favorite_event   \n",
       "4    20240219  1708343760654072  add_favorite_event   \n",
       "\n",
       "                     user_pseudo_id geo_country app_info_version platform  \\\n",
       "0  53357ec1f1dca1f79fabed2ee14adfb6     Croatia           6.16.9  ANDROID   \n",
       "1  53357ec1f1dca1f79fabed2ee14adfb6     Croatia           6.16.9  ANDROID   \n",
       "2  53357ec1f1dca1f79fabed2ee14adfb6     Croatia           6.16.9  ANDROID   \n",
       "3  53357ec1f1dca1f79fabed2ee14adfb6     Croatia           6.16.9  ANDROID   \n",
       "4  53357ec1f1dca1f79fabed2ee14adfb6     Croatia           6.16.9  ANDROID   \n",
       "\n",
       "  status          id  event_id name item_name  previous_first_open_count  \\\n",
       "0    NaN  11911139.0       NaN  NaN       NaN                        NaN   \n",
       "1    NaN  11938093.0       NaN  NaN       NaN                        NaN   \n",
       "2    NaN  11515794.0       NaN  NaN       NaN                        NaN   \n",
       "3    NaN  11515796.0       NaN  NaN       NaN                        NaN   \n",
       "4    NaN  12076702.0       NaN  NaN       NaN                        NaN   \n",
       "\n",
       "    firebase_experiments  \n",
       "0  ['firebase_exp_84_1']  \n",
       "1  ['firebase_exp_84_1']  \n",
       "2  ['firebase_exp_84_1']  \n",
       "3  ['firebase_exp_84_1']  \n",
       "4  ['firebase_exp_84_1']  "
      ]
     },
     "execution_count": 21,
     "metadata": {},
     "output_type": "execute_result"
    }
   ],
   "source": [
    "data = pd.read_csv('./events_data.csv', names=column_names, header=0)  \n",
    "data.head(5)"
   ]
  },
  {
   "cell_type": "markdown",
   "id": "2a0bce6b",
   "metadata": {},
   "source": [
    "## Data preparation"
   ]
  },
  {
   "cell_type": "markdown",
   "id": "095c9bc7",
   "metadata": {},
   "source": [
    "We are removing the column `platform` because is is constant."
   ]
  },
  {
   "cell_type": "code",
   "execution_count": 22,
   "id": "8195d7d0",
   "metadata": {},
   "outputs": [
    {
     "data": {
      "text/html": [
       "<div>\n",
       "<style scoped>\n",
       "    .dataframe tbody tr th:only-of-type {\n",
       "        vertical-align: middle;\n",
       "    }\n",
       "\n",
       "    .dataframe tbody tr th {\n",
       "        vertical-align: top;\n",
       "    }\n",
       "\n",
       "    .dataframe thead th {\n",
       "        text-align: right;\n",
       "    }\n",
       "</style>\n",
       "<table border=\"1\" class=\"dataframe\">\n",
       "  <thead>\n",
       "    <tr style=\"text-align: right;\">\n",
       "      <th></th>\n",
       "      <th>event_date</th>\n",
       "      <th>event_timestamp</th>\n",
       "      <th>event_name</th>\n",
       "      <th>user_pseudo_id</th>\n",
       "      <th>geo_country</th>\n",
       "      <th>app_info_version</th>\n",
       "      <th>status</th>\n",
       "      <th>id</th>\n",
       "      <th>event_id</th>\n",
       "      <th>name</th>\n",
       "      <th>item_name</th>\n",
       "      <th>previous_first_open_count</th>\n",
       "      <th>firebase_experiments</th>\n",
       "    </tr>\n",
       "  </thead>\n",
       "  <tbody>\n",
       "    <tr>\n",
       "      <th>0</th>\n",
       "      <td>20240219</td>\n",
       "      <td>1708300359346037</td>\n",
       "      <td>add_favorite_event</td>\n",
       "      <td>53357ec1f1dca1f79fabed2ee14adfb6</td>\n",
       "      <td>Croatia</td>\n",
       "      <td>6.16.9</td>\n",
       "      <td>NaN</td>\n",
       "      <td>11911139.0</td>\n",
       "      <td>NaN</td>\n",
       "      <td>NaN</td>\n",
       "      <td>NaN</td>\n",
       "      <td>NaN</td>\n",
       "      <td>['firebase_exp_84_1']</td>\n",
       "    </tr>\n",
       "    <tr>\n",
       "      <th>1</th>\n",
       "      <td>20240219</td>\n",
       "      <td>1708300395373042</td>\n",
       "      <td>add_favorite_event</td>\n",
       "      <td>53357ec1f1dca1f79fabed2ee14adfb6</td>\n",
       "      <td>Croatia</td>\n",
       "      <td>6.16.9</td>\n",
       "      <td>NaN</td>\n",
       "      <td>11938093.0</td>\n",
       "      <td>NaN</td>\n",
       "      <td>NaN</td>\n",
       "      <td>NaN</td>\n",
       "      <td>NaN</td>\n",
       "      <td>['firebase_exp_84_1']</td>\n",
       "    </tr>\n",
       "    <tr>\n",
       "      <th>2</th>\n",
       "      <td>20240219</td>\n",
       "      <td>1708343711592023</td>\n",
       "      <td>add_favorite_event</td>\n",
       "      <td>53357ec1f1dca1f79fabed2ee14adfb6</td>\n",
       "      <td>Croatia</td>\n",
       "      <td>6.16.9</td>\n",
       "      <td>NaN</td>\n",
       "      <td>11515794.0</td>\n",
       "      <td>NaN</td>\n",
       "      <td>NaN</td>\n",
       "      <td>NaN</td>\n",
       "      <td>NaN</td>\n",
       "      <td>['firebase_exp_84_1']</td>\n",
       "    </tr>\n",
       "    <tr>\n",
       "      <th>3</th>\n",
       "      <td>20240219</td>\n",
       "      <td>1708343723166037</td>\n",
       "      <td>add_favorite_event</td>\n",
       "      <td>53357ec1f1dca1f79fabed2ee14adfb6</td>\n",
       "      <td>Croatia</td>\n",
       "      <td>6.16.9</td>\n",
       "      <td>NaN</td>\n",
       "      <td>11515796.0</td>\n",
       "      <td>NaN</td>\n",
       "      <td>NaN</td>\n",
       "      <td>NaN</td>\n",
       "      <td>NaN</td>\n",
       "      <td>['firebase_exp_84_1']</td>\n",
       "    </tr>\n",
       "    <tr>\n",
       "      <th>4</th>\n",
       "      <td>20240219</td>\n",
       "      <td>1708343760654072</td>\n",
       "      <td>add_favorite_event</td>\n",
       "      <td>53357ec1f1dca1f79fabed2ee14adfb6</td>\n",
       "      <td>Croatia</td>\n",
       "      <td>6.16.9</td>\n",
       "      <td>NaN</td>\n",
       "      <td>12076702.0</td>\n",
       "      <td>NaN</td>\n",
       "      <td>NaN</td>\n",
       "      <td>NaN</td>\n",
       "      <td>NaN</td>\n",
       "      <td>['firebase_exp_84_1']</td>\n",
       "    </tr>\n",
       "  </tbody>\n",
       "</table>\n",
       "</div>"
      ],
      "text/plain": [
       "   event_date   event_timestamp          event_name  \\\n",
       "0    20240219  1708300359346037  add_favorite_event   \n",
       "1    20240219  1708300395373042  add_favorite_event   \n",
       "2    20240219  1708343711592023  add_favorite_event   \n",
       "3    20240219  1708343723166037  add_favorite_event   \n",
       "4    20240219  1708343760654072  add_favorite_event   \n",
       "\n",
       "                     user_pseudo_id geo_country app_info_version status  \\\n",
       "0  53357ec1f1dca1f79fabed2ee14adfb6     Croatia           6.16.9    NaN   \n",
       "1  53357ec1f1dca1f79fabed2ee14adfb6     Croatia           6.16.9    NaN   \n",
       "2  53357ec1f1dca1f79fabed2ee14adfb6     Croatia           6.16.9    NaN   \n",
       "3  53357ec1f1dca1f79fabed2ee14adfb6     Croatia           6.16.9    NaN   \n",
       "4  53357ec1f1dca1f79fabed2ee14adfb6     Croatia           6.16.9    NaN   \n",
       "\n",
       "           id  event_id name item_name  previous_first_open_count  \\\n",
       "0  11911139.0       NaN  NaN       NaN                        NaN   \n",
       "1  11938093.0       NaN  NaN       NaN                        NaN   \n",
       "2  11515794.0       NaN  NaN       NaN                        NaN   \n",
       "3  11515796.0       NaN  NaN       NaN                        NaN   \n",
       "4  12076702.0       NaN  NaN       NaN                        NaN   \n",
       "\n",
       "    firebase_experiments  \n",
       "0  ['firebase_exp_84_1']  \n",
       "1  ['firebase_exp_84_1']  \n",
       "2  ['firebase_exp_84_1']  \n",
       "3  ['firebase_exp_84_1']  \n",
       "4  ['firebase_exp_84_1']  "
      ]
     },
     "execution_count": 22,
     "metadata": {},
     "output_type": "execute_result"
    }
   ],
   "source": [
    "colummns_to_drop = ['platform']\n",
    "data.drop(columns=colummns_to_drop, inplace=True)\n",
    "data.head(5)"
   ]
  },
  {
   "cell_type": "markdown",
   "id": "28411991",
   "metadata": {},
   "source": [
    "We split the data into control and treatment groups based on the firebase_experiments variable and observe that the size difference between the two groups is not significant."
   ]
  },
  {
   "cell_type": "code",
   "execution_count": 23,
   "id": "6ed12f12",
   "metadata": {},
   "outputs": [],
   "source": [
    "control_group = data[data['firebase_experiments'].apply(lambda x: 'firebase_exp_84_0' in x)]\n",
    "treatment_group = data[data['firebase_experiments'].apply(lambda x: 'firebase_exp_84_1' in x)]"
   ]
  },
  {
   "cell_type": "markdown",
   "id": "aed7e4c0",
   "metadata": {},
   "source": [
    "This shows that about 49% of users are in the control group and 51% in the treatment group."
   ]
  },
  {
   "cell_type": "code",
   "execution_count": 24,
   "id": "971ab5b5",
   "metadata": {},
   "outputs": [
    {
     "name": "stdout",
     "output_type": "stream",
     "text": [
      "Percentage of control group:  0.48\n",
      "Percentage of treatment group:  0.52\n"
     ]
    }
   ],
   "source": [
    "print(\"Percentage of control group: \", round(len(control_group)/len(data), 2))\n",
    "print(\"Percentage of treatment group: \", round(len(treatment_group)/len(data), 2))"
   ]
  },
  {
   "cell_type": "markdown",
   "id": "77324da8",
   "metadata": {},
   "source": [
    "## Hypothesis"
   ]
  },
  {
   "cell_type": "markdown",
   "id": "859eeca2",
   "metadata": {},
   "source": [
    "**Null Hypothesis (H0):**\n",
    "\n",
    "There is no difference in the average number of clicks per user on the vote button between the treatment group (with access to the Change Vote button) and the control group (without it).\n",
    "\n",
    "**Alternative Hypothesis (H1):**\n",
    "\n",
    "Users in the treatment group (with access to the Change Vote button) have a higher average number of clicks per user on the vote button compared to the control group."
   ]
  },
  {
   "cell_type": "markdown",
   "id": "eed0549d",
   "metadata": {},
   "source": [
    "## Metrics"
   ]
  },
  {
   "cell_type": "markdown",
   "id": "bd6707c8",
   "metadata": {},
   "source": [
    "**Goal metric (OEC):**\n",
    "\n",
    "- Average clicks on the vote button per user"
   ]
  },
  {
   "cell_type": "markdown",
   "id": "354d72bb",
   "metadata": {},
   "source": [
    "Our primary assumption is that the average number of vote button clicks per user will be higher in the treatment group, since users in this group have access to the \"change vote\" option. This additional feature is expected to encourage more interaction with the voting system, potentially leading to more clicks per user compared to the control group."
   ]
  },
  {
   "cell_type": "code",
   "execution_count": null,
   "id": "4b41e9fe",
   "metadata": {},
   "outputs": [
    {
     "name": "stdout",
     "output_type": "stream",
     "text": [
      "Average vote clicks per user (control): 9.96\n",
      "Average vote clicks per user (treatment): 9.85\n"
     ]
    }
   ],
   "source": [
    "control_votes = control_group[control_group['event_name'] == 'event_vote']\n",
    "treatment_votes = treatment_group[treatment_group['event_name'] == 'event_vote']\n",
    "\n",
    "total_control_clicks = len(control_votes)\n",
    "total_treatment_clicks = len(treatment_votes)\n",
    "\n",
    "n_control_users = control_group['user_pseudo_id'].nunique()\n",
    "n_treatment_users = treatment_group['user_pseudo_id'].nunique()\n",
    "\n",
    "avg_clicks_control = round(total_control_clicks / n_control_users, 2)\n",
    "avg_clicks_treatment = round(total_treatment_clicks / n_treatment_users, 2)\n",
    "\n",
    "print(\"Average vote clicks per user (control):\", avg_clicks_control)\n",
    "print(\"Average vote clicks per user (treatment):\", avg_clicks_treatment)"
   ]
  },
  {
   "cell_type": "markdown",
   "id": "bfe20dbf",
   "metadata": {},
   "source": [
    "It can be observed that the average number of vote button clicks per user is 9.96 in the control group and 9.85 in the treatment group.\n",
    "To further investigate this difference statistically, we first test whether the variances of the two groups are equal using Bartlett’s test.\n"
   ]
  },
  {
   "cell_type": "code",
   "execution_count": 58,
   "id": "7aa6671b",
   "metadata": {},
   "outputs": [
    {
     "name": "stdout",
     "output_type": "stream",
     "text": [
      "Bartlett test statistic: 539.63\n",
      "p-value: 2.272523389900825e-119\n"
     ]
    }
   ],
   "source": [
    "clicks_per_user_control = control_votes.groupby('user_pseudo_id').size()\n",
    "clicks_per_user_treatment = treatment_votes.groupby('user_pseudo_id').size()\n",
    "\n",
    "statistic, p_value = stats.bartlett(clicks_per_user_control, clicks_per_user_treatment)\n",
    "\n",
    "print(\"Bartlett test statistic:\", round(statistic, 2))\n",
    "print(\"p-value:\", p_value)"
   ]
  },
  {
   "cell_type": "markdown",
   "id": "818d2cd3",
   "metadata": {},
   "source": [
    "Since the resulting p-value is extremely small (2.27e-119), we reject the null hypothesis that the variances are equal and conclude that the control and treatment groups have significantly different variances.\n",
    "Because of this, we cannot use Student’s t-test, which assumes equal variances. Instead, we apply Welch’s t-test, which does not rely on this assumption. The Welch’s t-test compares the average number of vote clicks per user between the control and treatment groups. "
   ]
  },
  {
   "cell_type": "code",
   "execution_count": 60,
   "id": "cdc064c3",
   "metadata": {},
   "outputs": [
    {
     "name": "stdout",
     "output_type": "stream",
     "text": [
      "Welch's t-test statistic: 0.39\n",
      "p-value: 0.69\n"
     ]
    }
   ],
   "source": [
    "clicks_per_user_control = control_votes.groupby('user_pseudo_id').size()\n",
    "clicks_per_user_treatment = treatment_votes.groupby('user_pseudo_id').size()\n",
    "\n",
    "t_stat, p_value = stats.ttest_ind(\n",
    "    clicks_per_user_control,\n",
    "    clicks_per_user_treatment,\n",
    "    equal_var=False\n",
    ")\n",
    "\n",
    "print(\"Welch's t-test statistic:\", round(t_stat, 2))\n",
    "print(\"p-value:\", round(p_value, 2))"
   ]
  },
  {
   "cell_type": "markdown",
   "id": "ccbdcdc2",
   "metadata": {},
   "source": [
    "The test statistic is 0.39, with a p-value of 0.69, which is well above the common significance threshold of 0.05. This means we fail to reject the null hypothesis that the two groups have the same average number of vote clicks per user.\n",
    "\n",
    "In other words, there is no statistically significant difference in the number of vote clicks per user between the control and treatment groups."
   ]
  },
  {
   "cell_type": "markdown",
   "id": "26f3022d",
   "metadata": {},
   "source": [
    "**Secondary metrics:**\n",
    "\n",
    "- Average ads_impression_custom per user"
   ]
  },
  {
   "cell_type": "markdown",
   "id": "eb535c37",
   "metadata": {},
   "source": [
    "Our goal is to observe positive growth in this secondary metric alongside the primary metric, since engagement with the Change Vote option should lead to more ads being shown."
   ]
  },
  {
   "cell_type": "code",
   "execution_count": 61,
   "id": "4ef77fd0",
   "metadata": {},
   "outputs": [
    {
     "name": "stdout",
     "output_type": "stream",
     "text": [
      "Average ad impressions per user (control): 398.46\n",
      "Average ad impressions per user (treatment): 401.64\n"
     ]
    }
   ],
   "source": [
    "n_control_users = control_group['user_pseudo_id'].nunique()\n",
    "n_treatment_users = treatment_group['user_pseudo_id'].nunique()\n",
    "\n",
    "ads_impressions_control = control_group[control_group['event_name'] == 'ads_impression_custom']\n",
    "ads_impressions_treatment = treatment_group[treatment_group['event_name'] == 'ads_impression_custom']\n",
    "\n",
    "total_control_impressions = len(ads_impressions_control)\n",
    "total_treatment_impressions = len(ads_impressions_treatment)\n",
    "\n",
    "avg_impressions_per_user_control = total_control_impressions / n_control_users\n",
    "avg_impressions_per_user_treatment = total_treatment_impressions / n_treatment_users\n",
    "\n",
    "print(\"Average ad impressions per user (control):\", round(avg_impressions_per_user_control, 2))\n",
    "print(\"Average ad impressions per user (treatment):\", round(avg_impressions_per_user_treatment, 2))"
   ]
  },
  {
   "cell_type": "markdown",
   "id": "a68f9b04",
   "metadata": {},
   "source": [
    "The control group haa an average of 398.46 ad impressions per user, while the treatment group has 401.64."
   ]
  },
  {
   "cell_type": "code",
   "execution_count": null,
   "id": "311b7957",
   "metadata": {},
   "outputs": [
    {
     "name": "stdout",
     "output_type": "stream",
     "text": [
      "Welch’s t-test statistic: -0.39\n",
      "p-value: 0.7\n"
     ]
    }
   ],
   "source": [
    "impressions_per_user_control = ads_impressions_control.groupby('user_pseudo_id').size()\n",
    "impressions_per_user_treatment = ads_impressions_treatment.groupby('user_pseudo_id').size()\n",
    "\n",
    "t_stat, p_value = stats.ttest_ind(\n",
    "    impressions_per_user_control,\n",
    "    impressions_per_user_treatment,\n",
    "    equal_var=False  \n",
    ")\n",
    "\n",
    "print(\"Welch’s t-test statistic:\", round(t_stat, 2))\n",
    "print(\"p-value:\", round(p_value, 2))"
   ]
  },
  {
   "cell_type": "markdown",
   "id": "f450a639",
   "metadata": {},
   "source": [
    "Although the treatment group shows a slightly higher mean, we used Welch’s t-test to assess whether this difference is statistically significant, since the assumption of equal variances may not hold, as we showed earlier that the groups have unequal variances and therefore Student’s t-test is not applicable. \\\n",
    "The test resulted in a t-statistic of -0.39 and a p-value of 0.70, which is much higher than the common significance threshold of 0.05.\n",
    "This means that we fail to reject the null hypothesis, and we do not observe a statistically significant difference in average ad impressions per user between the control and treatment groups. The observed difference is likely due to random variation."
   ]
  },
  {
   "cell_type": "markdown",
   "id": "3e4a6f34",
   "metadata": {},
   "source": [
    "**Guardrail metrics:**\n",
    "\n",
    "- Retention (1 day, 1 week)"
   ]
  },
  {
   "cell_type": "markdown",
   "id": "91d94aee",
   "metadata": {},
   "source": [
    "We calculated retention rates for 1, 5, 10, 15, and 17 days after the first event separately for users in the control and treatment groups.\n",
    "\n",
    "Next, we performed a two-proportion Z-test to statistically compare the retention rates between the two groups for each of these time points. The two-proportion Z-test evaluates whether the difference between two population proportions is statistically significant by comparing the observed difference relative to the variability expected under the null hypothesis of no difference."
   ]
  },
  {
   "cell_type": "code",
   "execution_count": 31,
   "id": "2182f1de",
   "metadata": {},
   "outputs": [],
   "source": [
    "control_group['event_date'] = pd.to_datetime(control_group['event_date'], format='%Y%m%d')\n",
    "treatment_group['event_date'] = pd.to_datetime(treatment_group['event_date'], format='%Y%m%d')"
   ]
  },
  {
   "cell_type": "code",
   "execution_count": 32,
   "id": "4344d824",
   "metadata": {},
   "outputs": [],
   "source": [
    "first_event_control = control_group.groupby('user_pseudo_id')['event_date'].min()\n",
    "first_event_treatment = treatment_group.groupby('user_pseudo_id')['event_date'].min()"
   ]
  },
  {
   "cell_type": "code",
   "execution_count": 33,
   "id": "422c4f7a",
   "metadata": {},
   "outputs": [],
   "source": [
    "control_group = control_group.merge(first_event_control.rename('first_date'), on='user_pseudo_id')\n",
    "treatment_group = treatment_group.merge(first_event_treatment.rename('first_date'), on='user_pseudo_id')"
   ]
  },
  {
   "cell_type": "code",
   "execution_count": 36,
   "id": "09487412",
   "metadata": {},
   "outputs": [],
   "source": [
    "control_group['days_since_first_event'] = (control_group['event_date'] - control_group['first_date']).dt.days\n",
    "treatment_group['days_since_first_event'] = (treatment_group['event_date'] - treatment_group['first_date']).dt.days"
   ]
  },
  {
   "cell_type": "code",
   "execution_count": null,
   "id": "e2bf5a58",
   "metadata": {},
   "outputs": [],
   "source": [
    "days = [1, 5, 10, 15, 17]\n",
    "retention_data = []\n",
    "\n",
    "for day in days:\n",
    "    active_users_c = control_group[control_group['days_since_first_event'] == day]['user_pseudo_id'].nunique()\n",
    "    total_users_c = control_group['user_pseudo_id'].nunique()\n",
    "    retention_rate_c = active_users_c / total_users_c if total_users_c > 0 else 0\n",
    "\n",
    "    active_users_t = treatment_group[treatment_group['days_since_first_event'] == day]['user_pseudo_id'].nunique()\n",
    "    total_users_t = treatment_group['user_pseudo_id'].nunique()\n",
    "    retention_rate_t = active_users_t / total_users_t if total_users_t > 0 else 0\n",
    "\n",
    "    counts = [active_users_c, active_users_t]\n",
    "    nobs = [total_users_c, total_users_t]\n",
    "    z_stat, p_val = proportions_ztest(counts, nobs)\n",
    "\n",
    "    retention_data.append({\n",
    "        'day_since_first_event': day,\n",
    "        'retention_rate_control': round(retention_rate_c, 2),\n",
    "        'active_users_control': active_users_c,\n",
    "        'retention_rate_treatment': round(retention_rate_t, 2),\n",
    "        'active_users_treatment': active_users_t,\n",
    "        'z_statistic': round(z_stat, 2),\n",
    "        'p_value': round(p_val, 2)\n",
    "    })\n",
    "\n",
    "retention_df = pd.DataFrame(retention_data)"
   ]
  },
  {
   "cell_type": "code",
   "execution_count": 64,
   "id": "57c0f66e",
   "metadata": {},
   "outputs": [
    {
     "data": {
      "text/html": [
       "<div>\n",
       "<style scoped>\n",
       "    .dataframe tbody tr th:only-of-type {\n",
       "        vertical-align: middle;\n",
       "    }\n",
       "\n",
       "    .dataframe tbody tr th {\n",
       "        vertical-align: top;\n",
       "    }\n",
       "\n",
       "    .dataframe thead th {\n",
       "        text-align: right;\n",
       "    }\n",
       "</style>\n",
       "<table border=\"1\" class=\"dataframe\">\n",
       "  <thead>\n",
       "    <tr style=\"text-align: right;\">\n",
       "      <th></th>\n",
       "      <th>day_since_first_event</th>\n",
       "      <th>retention_rate_control</th>\n",
       "      <th>active_users_control</th>\n",
       "      <th>retention_rate_treatment</th>\n",
       "      <th>active_users_treatment</th>\n",
       "      <th>z_statistic</th>\n",
       "      <th>p_value</th>\n",
       "    </tr>\n",
       "  </thead>\n",
       "  <tbody>\n",
       "    <tr>\n",
       "      <th>0</th>\n",
       "      <td>1</td>\n",
       "      <td>0.69</td>\n",
       "      <td>13493</td>\n",
       "      <td>0.69</td>\n",
       "      <td>14123</td>\n",
       "      <td>0.57</td>\n",
       "      <td>0.57</td>\n",
       "    </tr>\n",
       "    <tr>\n",
       "      <th>1</th>\n",
       "      <td>5</td>\n",
       "      <td>0.44</td>\n",
       "      <td>8665</td>\n",
       "      <td>0.44</td>\n",
       "      <td>9132</td>\n",
       "      <td>-0.27</td>\n",
       "      <td>0.79</td>\n",
       "    </tr>\n",
       "    <tr>\n",
       "      <th>2</th>\n",
       "      <td>10</td>\n",
       "      <td>0.22</td>\n",
       "      <td>4389</td>\n",
       "      <td>0.23</td>\n",
       "      <td>4630</td>\n",
       "      <td>-0.21</td>\n",
       "      <td>0.83</td>\n",
       "    </tr>\n",
       "    <tr>\n",
       "      <th>3</th>\n",
       "      <td>15</td>\n",
       "      <td>0.05</td>\n",
       "      <td>995</td>\n",
       "      <td>0.05</td>\n",
       "      <td>978</td>\n",
       "      <td>1.52</td>\n",
       "      <td>0.13</td>\n",
       "    </tr>\n",
       "    <tr>\n",
       "      <th>4</th>\n",
       "      <td>17</td>\n",
       "      <td>0.02</td>\n",
       "      <td>381</td>\n",
       "      <td>0.02</td>\n",
       "      <td>418</td>\n",
       "      <td>-0.62</td>\n",
       "      <td>0.54</td>\n",
       "    </tr>\n",
       "  </tbody>\n",
       "</table>\n",
       "</div>"
      ],
      "text/plain": [
       "   day_since_first_event  retention_rate_control  active_users_control  \\\n",
       "0                      1                    0.69                 13493   \n",
       "1                      5                    0.44                  8665   \n",
       "2                     10                    0.22                  4389   \n",
       "3                     15                    0.05                   995   \n",
       "4                     17                    0.02                   381   \n",
       "\n",
       "   retention_rate_treatment  active_users_treatment  z_statistic  p_value  \n",
       "0                      0.69                   14123         0.57     0.57  \n",
       "1                      0.44                    9132        -0.27     0.79  \n",
       "2                      0.23                    4630        -0.21     0.83  \n",
       "3                      0.05                     978         1.52     0.13  \n",
       "4                      0.02                     418        -0.62     0.54  "
      ]
     },
     "execution_count": 64,
     "metadata": {},
     "output_type": "execute_result"
    }
   ],
   "source": [
    "retention_df.head(5)"
   ]
  },
  {
   "cell_type": "markdown",
   "id": "0cd96871",
   "metadata": {},
   "source": [
    "The results show that all p-values are greater than 0.05, indicating that there is no statistically significant difference in retention rates between the control and treatment groups at any of the evaluated time points."
   ]
  }
 ],
 "metadata": {
  "kernelspec": {
   "display_name": "Python 3",
   "language": "python",
   "name": "python3"
  },
  "language_info": {
   "codemirror_mode": {
    "name": "ipython",
    "version": 3
   },
   "file_extension": ".py",
   "mimetype": "text/x-python",
   "name": "python",
   "nbconvert_exporter": "python",
   "pygments_lexer": "ipython3",
   "version": "3.12.10"
  }
 },
 "nbformat": 4,
 "nbformat_minor": 5
}
